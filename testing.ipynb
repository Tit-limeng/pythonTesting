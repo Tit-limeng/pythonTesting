{
 "cells": [
  {
   "cell_type": "code",
   "execution_count": 1,
   "id": "7ba662e3-2f8f-4608-84c5-88600aa46e57",
   "metadata": {},
   "outputs": [
    {
     "name": "stdout",
     "output_type": "stream",
     "text": [
      "hello python\n"
     ]
    }
   ],
   "source": [
    "print(\"hello python\")"
   ]
  },
  {
   "cell_type": "code",
   "execution_count": 9,
   "id": "1c5c21b4-1f31-47e4-b74b-d46dbc009f60",
   "metadata": {},
   "outputs": [
    {
     "name": "stdout",
     "output_type": "stream",
     "text": [
      "this is the resualt : 2\n"
     ]
    }
   ],
   "source": [
    "a = 1 \n",
    "b = 2 \n",
    "c = a * b\n",
    "print(\"this is the resualt :\" , c) "
   ]
  },
  {
   "cell_type": "code",
   "execution_count": 110,
   "id": "2a2f5582-a81f-408c-930a-0df1bbd597fb",
   "metadata": {},
   "outputs": [
    {
     "name": "stdout",
     "output_type": "stream",
     "text": [
      "0\n",
      "1\n",
      "2\n",
      "3\n",
      "4\n",
      "5\n"
     ]
    }
   ],
   "source": [
    "number = 6 \n",
    "\n",
    "for i in range(number) :\n",
    "    print(i)"
   ]
  },
  {
   "cell_type": "code",
   "execution_count": 108,
   "id": "e3acd7e2-fe02-4452-ab11-1ad67b6d943b",
   "metadata": {},
   "outputs": [
    {
     "name": "stdout",
     "output_type": "stream",
     "text": [
      "3\n",
      "2\n",
      "1\n"
     ]
    }
   ],
   "source": [
    "number = 3\n",
    "for i in range(number, 0 ,-1) :\n",
    "    print(i)\n",
    "    for j in range(number, 1 ,1) :\n",
    "        print(j)\n"
   ]
  },
  {
   "cell_type": "code",
   "execution_count": null,
   "id": "70e85c25-9540-467e-b995-6ae5088f73ec",
   "metadata": {},
   "outputs": [],
   "source": []
  }
 ],
 "metadata": {
  "kernelspec": {
   "display_name": "Python 3 (ipykernel)",
   "language": "python",
   "name": "python3"
  },
  "language_info": {
   "codemirror_mode": {
    "name": "ipython",
    "version": 3
   },
   "file_extension": ".py",
   "mimetype": "text/x-python",
   "name": "python",
   "nbconvert_exporter": "python",
   "pygments_lexer": "ipython3",
   "version": "3.12.4"
  }
 },
 "nbformat": 4,
 "nbformat_minor": 5
}
